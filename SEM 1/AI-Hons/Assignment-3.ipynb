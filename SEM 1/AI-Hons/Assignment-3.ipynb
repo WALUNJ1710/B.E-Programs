{
 "cells": [
  {
   "cell_type": "markdown",
   "id": "a34f02ab",
   "metadata": {},
   "source": [
    "## AND Logic gate with Hebbnet Neural Network"
   ]
  },
  {
   "cell_type": "code",
   "execution_count": 13,
   "id": "3880ed6f",
   "metadata": {},
   "outputs": [
    {
     "name": "stdout",
     "output_type": "stream",
     "text": [
      "Inputs: (0, 0), Target Output: 0, Predicted Output: 0\n",
      "Inputs: (0, 1), Target Output: 0, Predicted Output: 1\n",
      "Inputs: (1, 0), Target Output: 0, Predicted Output: 1\n",
      "Inputs: (1, 1), Target Output: 1, Predicted Output: 1\n"
     ]
    }
   ],
   "source": [
    "import numpy as np\n",
    "\n",
    "# Define the activation function (Hebbian learning rule)\n",
    "def hebbian_activation(x, w):\n",
    "    return np.dot(x, w)\n",
    "\n",
    "# Initialize the weights with small random values\n",
    "input_size = 2\n",
    "output_size = 1\n",
    "weights = np.random.rand(input_size, output_size)\n",
    "\n",
    "# Training data for the logic gates\n",
    "# Format: (input1, input2, target_output)\n",
    "and_data = [(0, 0, 0), (0, 1, 0), (1, 0, 0), (1, 1, 1)]\n",
    "#or_data = [(0, 0, 0), (0, 1, 1), (1, 0, 1), (1, 1, 1)]\n",
    "#not_data = [(0, 1), (1, 0)]\n",
    "\n",
    "# Training loop\n",
    "learning_rate = 0.1\n",
    "num_epochs = 1000\n",
    "\n",
    "for epoch in range(num_epochs):\n",
    "    for inputs in and_data:\n",
    "        x = np.array(inputs[:2])\n",
    "        target_output = inputs[2]\n",
    "        y = hebbian_activation(x, weights)\n",
    "        weights += learning_rate * np.outer(x, target_output - y)\n",
    "\n",
    "# Test the trained network for the AND gate\n",
    "for inputs in and_data:\n",
    "    x = np.array(inputs[:2])\n",
    "    y = hebbian_activation(x, weights)\n",
    "    print(f\"Inputs: {inputs[:2]}, Target Output: {inputs[2]}, Predicted Output: {int(y > 0)}\")"
   ]
  },
  {
   "cell_type": "markdown",
   "id": "f4b9e315",
   "metadata": {},
   "source": [
    "## OR Logic gate with Hebbnet Neural Network"
   ]
  },
  {
   "cell_type": "code",
   "execution_count": 12,
   "id": "f0d7e57c",
   "metadata": {},
   "outputs": [
    {
     "name": "stdout",
     "output_type": "stream",
     "text": [
      "Inputs: (0, 0), Target Output: 0, Predicted Output: 0\n",
      "Inputs: (0, 1), Target Output: 1, Predicted Output: 1\n",
      "Inputs: (1, 0), Target Output: 1, Predicted Output: 1\n",
      "Inputs: (1, 1), Target Output: 1, Predicted Output: 1\n"
     ]
    }
   ],
   "source": [
    "import numpy as np\n",
    "\n",
    "# Define the activation function (Hebbian learning rule)\n",
    "def hebbian_activation(x, w):\n",
    "    return np.dot(x, w)\n",
    "\n",
    "# Initialize the weights with small random values\n",
    "input_size = 2\n",
    "output_size = 1\n",
    "weights = np.random.rand(input_size, output_size)\n",
    "\n",
    "# Training data for the OR gate\n",
    "and_data = [(0, 0, 0), (0, 1, 1), (1, 0, 1), (1, 1, 1)]\n",
    "\n",
    "# Training loop\n",
    "learning_rate = 0.1\n",
    "num_epochs = 1000\n",
    "\n",
    "for epoch in range(num_epochs):\n",
    "    for inputs in and_data:\n",
    "        x = np.array(inputs[:2])\n",
    "        target_output = inputs[2]\n",
    "        y = hebbian_activation(x, weights)\n",
    "        weights += learning_rate * np.outer(x, target_output - y)\n",
    "\n",
    "# Test the trained network for the AND gate\n",
    "for inputs in and_data:\n",
    "    x = np.array(inputs[:2])\n",
    "    y = hebbian_activation(x, weights)\n",
    "    print(f\"Inputs: {inputs[:2]}, Target Output: {inputs[2]}, Predicted Output: {int(y > 0)}\")"
   ]
  }
 ],
 "metadata": {
  "kernelspec": {
   "display_name": "Python 3 (ipykernel)",
   "language": "python",
   "name": "python3"
  },
  "language_info": {
   "codemirror_mode": {
    "name": "ipython",
    "version": 3
   },
   "file_extension": ".py",
   "mimetype": "text/x-python",
   "name": "python",
   "nbconvert_exporter": "python",
   "pygments_lexer": "ipython3",
   "version": "3.10.9"
  }
 },
 "nbformat": 4,
 "nbformat_minor": 5
}
